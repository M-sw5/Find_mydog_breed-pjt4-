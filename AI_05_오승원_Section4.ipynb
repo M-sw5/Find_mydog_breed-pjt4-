{
  "nbformat": 4,
  "nbformat_minor": 0,
  "metadata": {
    "colab": {
      "name": "AI_05_오승원_Section4.ipynb",
      "provenance": [],
      "collapsed_sections": []
    },
    "kernelspec": {
      "name": "python3",
      "display_name": "Python 3"
    },
    "language_info": {
      "name": "python"
    },
    "accelerator": "GPU"
  },
  "cells": [
    {
      "cell_type": "code",
      "metadata": {
        "id": "LQZeuYZX3A53"
      },
      "source": [
        "import os\n",
        "import numpy as np\n",
        "import pandas as pd\n",
        "import matplotlib.pyplot as plt\n",
        "import seaborn as sns\n",
        "\n",
        "import warnings\n",
        "warnings.filterwarnings('ignore')"
      ],
      "execution_count": 13,
      "outputs": []
    },
    {
      "cell_type": "markdown",
      "metadata": {
        "id": "OIpBaG6fMxkR"
      },
      "source": [
        "loading dataset"
      ]
    },
    {
      "cell_type": "code",
      "metadata": {
        "id": "rBz_FGh7MwkC"
      },
      "source": [
        "train_dir = '/content/drive/MyDrive/AI_05/Section4/project_re/train'\n"
      ],
      "execution_count": 14,
      "outputs": []
    },
    {
      "cell_type": "code",
      "metadata": {
        "id": "Rihr33c5NKhl",
        "colab": {
          "base_uri": "https://localhost:8080/"
        },
        "outputId": "da9f3768-2bc6-4094-b177-e371152aeae4"
      },
      "source": [
        "train_size = len(os.listdir(train_dir))\n",
        "train_size"
      ],
      "execution_count": 3,
      "outputs": [
        {
          "output_type": "execute_result",
          "data": {
            "text/plain": [
              "10275"
            ]
          },
          "metadata": {},
          "execution_count": 3
        }
      ]
    },
    {
      "cell_type": "code",
      "metadata": {
        "id": "245IXcKHNYax",
        "colab": {
          "base_uri": "https://localhost:8080/",
          "height": 204
        },
        "outputId": "18249b34-9d45-4e59-80e4-b93a057948df"
      },
      "source": [
        "df = pd.read_csv(\"/content/drive/MyDrive/AI_05/Section4/project_re/labels.csv\")\n",
        "df.head()"
      ],
      "execution_count": 15,
      "outputs": [
        {
          "output_type": "execute_result",
          "data": {
            "text/html": [
              "<div>\n",
              "<style scoped>\n",
              "    .dataframe tbody tr th:only-of-type {\n",
              "        vertical-align: middle;\n",
              "    }\n",
              "\n",
              "    .dataframe tbody tr th {\n",
              "        vertical-align: top;\n",
              "    }\n",
              "\n",
              "    .dataframe thead th {\n",
              "        text-align: right;\n",
              "    }\n",
              "</style>\n",
              "<table border=\"1\" class=\"dataframe\">\n",
              "  <thead>\n",
              "    <tr style=\"text-align: right;\">\n",
              "      <th></th>\n",
              "      <th>id</th>\n",
              "      <th>breed</th>\n",
              "    </tr>\n",
              "  </thead>\n",
              "  <tbody>\n",
              "    <tr>\n",
              "      <th>0</th>\n",
              "      <td>000bec180eb18c7604dcecc8fe0dba07</td>\n",
              "      <td>boston_bull</td>\n",
              "    </tr>\n",
              "    <tr>\n",
              "      <th>1</th>\n",
              "      <td>001513dfcb2ffafc82cccf4d8bbaba97</td>\n",
              "      <td>dingo</td>\n",
              "    </tr>\n",
              "    <tr>\n",
              "      <th>2</th>\n",
              "      <td>001cdf01b096e06d78e9e5112d419397</td>\n",
              "      <td>pekinese</td>\n",
              "    </tr>\n",
              "    <tr>\n",
              "      <th>3</th>\n",
              "      <td>00214f311d5d2247d5dfe4fe24b2303d</td>\n",
              "      <td>bluetick</td>\n",
              "    </tr>\n",
              "    <tr>\n",
              "      <th>4</th>\n",
              "      <td>0021f9ceb3235effd7fcde7f7538ed62</td>\n",
              "      <td>golden_retriever</td>\n",
              "    </tr>\n",
              "  </tbody>\n",
              "</table>\n",
              "</div>"
            ],
            "text/plain": [
              "                                 id             breed\n",
              "0  000bec180eb18c7604dcecc8fe0dba07       boston_bull\n",
              "1  001513dfcb2ffafc82cccf4d8bbaba97             dingo\n",
              "2  001cdf01b096e06d78e9e5112d419397          pekinese\n",
              "3  00214f311d5d2247d5dfe4fe24b2303d          bluetick\n",
              "4  0021f9ceb3235effd7fcde7f7538ed62  golden_retriever"
            ]
          },
          "metadata": {},
          "execution_count": 15
        }
      ]
    },
    {
      "cell_type": "code",
      "metadata": {
        "id": "stjB-se-HDuw",
        "colab": {
          "base_uri": "https://localhost:8080/"
        },
        "outputId": "0a835ed9-ef83-41c4-c71e-07f1b98de0c4"
      },
      "source": [
        "files = len(os.listdir('/content/drive/MyDrive/AI_05/Section4/project_re/train'))\n",
        "files"
      ],
      "execution_count": 16,
      "outputs": [
        {
          "output_type": "execute_result",
          "data": {
            "text/plain": [
              "10275"
            ]
          },
          "metadata": {},
          "execution_count": 16
        }
      ]
    },
    {
      "cell_type": "code",
      "metadata": {
        "id": "0wygsbqQSSef",
        "colab": {
          "base_uri": "https://localhost:8080/"
        },
        "outputId": "dab4972b-118c-47a1-b3c0-6359d46cc81e"
      },
      "source": [
        "dog_breeds = sorted(df['breed'].unique())\n",
        "n_classes = len(dog_breeds)\n",
        "print(n_classes)\n"
      ],
      "execution_count": 17,
      "outputs": [
        {
          "output_type": "stream",
          "name": "stdout",
          "text": [
            "120\n"
          ]
        }
      ]
    },
    {
      "cell_type": "code",
      "metadata": {
        "id": "Q37p40rkSeMa"
      },
      "source": [
        "class_to_num = dict(zip(dog_breeds, range(n_classes)))"
      ],
      "execution_count": 18,
      "outputs": []
    },
    {
      "cell_type": "code",
      "metadata": {
        "colab": {
          "base_uri": "https://localhost:8080/"
        },
        "id": "N6aYQFNWSvsN",
        "outputId": "e4425192-87a4-445f-aa1c-eeb9e1c6b29d"
      },
      "source": [
        "print(class_to_num)"
      ],
      "execution_count": 19,
      "outputs": [
        {
          "output_type": "stream",
          "name": "stdout",
          "text": [
            "{'affenpinscher': 0, 'afghan_hound': 1, 'african_hunting_dog': 2, 'airedale': 3, 'american_staffordshire_terrier': 4, 'appenzeller': 5, 'australian_terrier': 6, 'basenji': 7, 'basset': 8, 'beagle': 9, 'bedlington_terrier': 10, 'bernese_mountain_dog': 11, 'black-and-tan_coonhound': 12, 'blenheim_spaniel': 13, 'bloodhound': 14, 'bluetick': 15, 'border_collie': 16, 'border_terrier': 17, 'borzoi': 18, 'boston_bull': 19, 'bouvier_des_flandres': 20, 'boxer': 21, 'brabancon_griffon': 22, 'briard': 23, 'brittany_spaniel': 24, 'bull_mastiff': 25, 'cairn': 26, 'cardigan': 27, 'chesapeake_bay_retriever': 28, 'chihuahua': 29, 'chow': 30, 'clumber': 31, 'cocker_spaniel': 32, 'collie': 33, 'curly-coated_retriever': 34, 'dandie_dinmont': 35, 'dhole': 36, 'dingo': 37, 'doberman': 38, 'english_foxhound': 39, 'english_setter': 40, 'english_springer': 41, 'entlebucher': 42, 'eskimo_dog': 43, 'flat-coated_retriever': 44, 'french_bulldog': 45, 'german_shepherd': 46, 'german_short-haired_pointer': 47, 'giant_schnauzer': 48, 'golden_retriever': 49, 'gordon_setter': 50, 'great_dane': 51, 'great_pyrenees': 52, 'greater_swiss_mountain_dog': 53, 'groenendael': 54, 'ibizan_hound': 55, 'irish_setter': 56, 'irish_terrier': 57, 'irish_water_spaniel': 58, 'irish_wolfhound': 59, 'italian_greyhound': 60, 'japanese_spaniel': 61, 'keeshond': 62, 'kelpie': 63, 'kerry_blue_terrier': 64, 'komondor': 65, 'kuvasz': 66, 'labrador_retriever': 67, 'lakeland_terrier': 68, 'leonberg': 69, 'lhasa': 70, 'malamute': 71, 'malinois': 72, 'maltese_dog': 73, 'mexican_hairless': 74, 'miniature_pinscher': 75, 'miniature_poodle': 76, 'miniature_schnauzer': 77, 'newfoundland': 78, 'norfolk_terrier': 79, 'norwegian_elkhound': 80, 'norwich_terrier': 81, 'old_english_sheepdog': 82, 'otterhound': 83, 'papillon': 84, 'pekinese': 85, 'pembroke': 86, 'pomeranian': 87, 'pug': 88, 'redbone': 89, 'rhodesian_ridgeback': 90, 'rottweiler': 91, 'saint_bernard': 92, 'saluki': 93, 'samoyed': 94, 'schipperke': 95, 'scotch_terrier': 96, 'scottish_deerhound': 97, 'sealyham_terrier': 98, 'shetland_sheepdog': 99, 'shih-tzu': 100, 'siberian_husky': 101, 'silky_terrier': 102, 'soft-coated_wheaten_terrier': 103, 'staffordshire_bullterrier': 104, 'standard_poodle': 105, 'standard_schnauzer': 106, 'sussex_spaniel': 107, 'tibetan_mastiff': 108, 'tibetan_terrier': 109, 'toy_poodle': 110, 'toy_terrier': 111, 'vizsla': 112, 'walker_hound': 113, 'weimaraner': 114, 'welsh_springer_spaniel': 115, 'west_highland_white_terrier': 116, 'whippet': 117, 'wire-haired_fox_terrier': 118, 'yorkshire_terrier': 119}\n"
          ]
        }
      ]
    },
    {
      "cell_type": "code",
      "metadata": {
        "id": "ieoq48JfS1HI"
      },
      "source": [
        "from tensorflow.keras.preprocessing.image import load_img\n",
        "from tensorflow.keras.utils import to_categorical\n",
        "\n",
        "def images_to_array(data_dir, df, image_size):\n",
        "    image_names = df['id']\n",
        "    image_labels = df['breed']\n",
        "    data_size = len(image_names)\n",
        "    \n",
        "    #빈 데이터셋을 만들어 준다\n",
        "    X = np.zeros([data_size,image_size[0],image_size[1],image_size[2]],dtype = np.uint8)\n",
        "    y = np.zeros([data_size,1],dtype = np.uint8)\n",
        "\n",
        "    for i in range(data_size):\n",
        "        img_name = image_names[i]\n",
        "        img_dir = os.path.join(data_dir, img_name+'.jpg')\n",
        "        img_pixels = load_img(img_dir, target_size=image_size)\n",
        "        X[i] = img_pixels\n",
        "        y[i] = class_to_num[image_labels[i]]\n",
        "\n",
        "    y = to_categorical(y)\n",
        "    \n",
        "    # 데이터들을 섞어주는 역할을 한다. 이렇게도 한다니 신기\n",
        "    ind = np.random.permutation(data_size)\n",
        "    X = X[ind]\n",
        "    y = y[ind]\n",
        "\n",
        "    print('Output Data Size:', X.shape)\n",
        "    print('Output Label Size:', y.shape)\n",
        "\n",
        "    return X, y\n"
      ],
      "execution_count": 20,
      "outputs": []
    },
    {
      "cell_type": "code",
      "metadata": {
        "id": "DMwx6iGhY_HO"
      },
      "source": [
        "img_size = (224, 224, 3)\n",
        "# selecting image size according to pretrained models.\n",
        "# 만약 내가 새로 모델을 만든다면 내가 원하는 형태로 해도 문제 없을 듯."
      ],
      "execution_count": 21,
      "outputs": []
    },
    {
      "cell_type": "code",
      "metadata": {
        "id": "ANntFAWjbNou",
        "colab": {
          "base_uri": "https://localhost:8080/"
        },
        "outputId": "2888d9b0-874f-42db-929a-2c13d79dbff8"
      },
      "source": [
        "train_input, train_target = images_to_array(train_dir, df, img_size)"
      ],
      "execution_count": 22,
      "outputs": [
        {
          "output_type": "stream",
          "name": "stdout",
          "text": [
            "Output Data Size: (10222, 224, 224, 3)\n",
            "Output Label Size: (10222, 120)\n"
          ]
        }
      ]
    },
    {
      "cell_type": "markdown",
      "metadata": {
        "id": "YlQiCP3NFZTu"
      },
      "source": [
        "## CNN 모델학습 (자체모델)\n"
      ]
    },
    {
      "cell_type": "code",
      "metadata": {
        "id": "hawuoFFCextq"
      },
      "source": [
        "from sklearn.model_selection import train_test_split\n",
        "\n",
        "train_input, val_input, train_target, val_target = train_test_split(train_input, train_target, test_size=0.2, random_state=50)"
      ],
      "execution_count": 23,
      "outputs": []
    },
    {
      "cell_type": "code",
      "metadata": {
        "id": "gUS9wraukGOr"
      },
      "source": [
        "from tensorflow import keras\n",
        "from tensorflow.keras import layers\n",
        "from tensorflow.keras.models import Sequential"
      ],
      "execution_count": 24,
      "outputs": []
    },
    {
      "cell_type": "code",
      "metadata": {
        "id": "nJofQ0UqcTRJ"
      },
      "source": [
        "num_classes = 120\n",
        "\n",
        "model = Sequential([\n",
        "  layers.experimental.preprocessing.Rescaling(1./255, input_shape=img_size),\n",
        "  layers.Conv2D(16, 3, padding='same', activation='relu'),\n",
        "  layers.MaxPooling2D(),\n",
        "  layers.Conv2D(32, 3, padding='same', activation='relu'),\n",
        "  layers.MaxPooling2D(),\n",
        "  layers.Conv2D(64, 3, padding='same', activation='relu'),\n",
        "  layers.MaxPooling2D(),\n",
        "  layers.Flatten(),\n",
        "  layers.Dense(128, activation='relu'),\n",
        "  layers.Dropout(0.4),\n",
        "  layers.Dense(num_classes, activation='softmax')\n",
        "])"
      ],
      "execution_count": null,
      "outputs": []
    },
    {
      "cell_type": "code",
      "metadata": {
        "id": "U9cO93hndzMZ"
      },
      "source": [
        "model.compile(optimizer='adam', loss='categorical_crossentropy', metrics='accuracy')\n",
        "\n",
        "checkpoint_cb = keras.callbacks.ModelCheckpoint('best-cnn-model.h5', save_best_only=True)\n",
        "early_stopping_cb = keras.callbacks.EarlyStopping(patience=5, restore_best_weights=True)"
      ],
      "execution_count": null,
      "outputs": []
    },
    {
      "cell_type": "code",
      "metadata": {
        "colab": {
          "base_uri": "https://localhost:8080/"
        },
        "id": "1gKx7AMkk7Lg",
        "outputId": "13dd86c8-920c-4d0b-f7d4-22ebd7b2317b"
      },
      "source": [
        "model.summary()"
      ],
      "execution_count": null,
      "outputs": [
        {
          "output_type": "stream",
          "name": "stdout",
          "text": [
            "Model: \"sequential\"\n",
            "_________________________________________________________________\n",
            " Layer (type)                Output Shape              Param #   \n",
            "=================================================================\n",
            " rescaling (Rescaling)       (None, 224, 224, 3)       0         \n",
            "                                                                 \n",
            " conv2d (Conv2D)             (None, 224, 224, 16)      448       \n",
            "                                                                 \n",
            " max_pooling2d (MaxPooling2D  (None, 112, 112, 16)     0         \n",
            " )                                                               \n",
            "                                                                 \n",
            " conv2d_1 (Conv2D)           (None, 112, 112, 32)      4640      \n",
            "                                                                 \n",
            " max_pooling2d_1 (MaxPooling  (None, 56, 56, 32)       0         \n",
            " 2D)                                                             \n",
            "                                                                 \n",
            " conv2d_2 (Conv2D)           (None, 56, 56, 64)        18496     \n",
            "                                                                 \n",
            " max_pooling2d_2 (MaxPooling  (None, 28, 28, 64)       0         \n",
            " 2D)                                                             \n",
            "                                                                 \n",
            " flatten (Flatten)           (None, 50176)             0         \n",
            "                                                                 \n",
            " dense (Dense)               (None, 128)               6422656   \n",
            "                                                                 \n",
            " dropout (Dropout)           (None, 128)               0         \n",
            "                                                                 \n",
            " dense_1 (Dense)             (None, 120)               15480     \n",
            "                                                                 \n",
            "=================================================================\n",
            "Total params: 6,461,720\n",
            "Trainable params: 6,461,720\n",
            "Non-trainable params: 0\n",
            "_________________________________________________________________\n"
          ]
        }
      ]
    },
    {
      "cell_type": "code",
      "metadata": {
        "id": "nrPft1I3NSKP"
      },
      "source": [
        "epochs= 30"
      ],
      "execution_count": 30,
      "outputs": []
    },
    {
      "cell_type": "code",
      "metadata": {
        "colab": {
          "base_uri": "https://localhost:8080/"
        },
        "id": "MCxTflgPklTF",
        "outputId": "7a030fee-cdaf-4644-a222-ba63c7eff5c2"
      },
      "source": [
        "history = model.fit(train_input, train_target, epochs=epochs, validation_data=(val_input, val_target),\n",
        "                    callbacks=[checkpoint_cb, early_stopping_cb])"
      ],
      "execution_count": null,
      "outputs": [
        {
          "output_type": "stream",
          "name": "stdout",
          "text": [
            "Epoch 1/30\n",
            "256/256 [==============================] - 47s 66ms/step - loss: 4.7922 - accuracy: 0.0106 - val_loss: 4.7758 - val_accuracy: 0.0156\n",
            "Epoch 2/30\n",
            "256/256 [==============================] - 16s 63ms/step - loss: 4.6956 - accuracy: 0.0192 - val_loss: 4.6271 - val_accuracy: 0.0215\n",
            "Epoch 3/30\n",
            "256/256 [==============================] - 16s 62ms/step - loss: 4.4773 - accuracy: 0.0429 - val_loss: 4.5998 - val_accuracy: 0.0244\n",
            "Epoch 4/30\n",
            "256/256 [==============================] - 16s 62ms/step - loss: 4.0818 - accuracy: 0.1009 - val_loss: 4.6814 - val_accuracy: 0.0279\n",
            "Epoch 5/30\n",
            "256/256 [==============================] - 16s 62ms/step - loss: 3.4301 - accuracy: 0.2077 - val_loss: 5.0073 - val_accuracy: 0.0323\n",
            "Epoch 6/30\n",
            "256/256 [==============================] - 16s 62ms/step - loss: 2.7290 - accuracy: 0.3302 - val_loss: 5.4861 - val_accuracy: 0.0303\n",
            "Epoch 7/30\n",
            "256/256 [==============================] - 16s 62ms/step - loss: 2.1760 - accuracy: 0.4478 - val_loss: 5.9328 - val_accuracy: 0.0298\n",
            "Epoch 8/30\n",
            "256/256 [==============================] - 16s 62ms/step - loss: 1.7303 - accuracy: 0.5476 - val_loss: 6.6968 - val_accuracy: 0.0347\n"
          ]
        }
      ]
    },
    {
      "cell_type": "code",
      "metadata": {
        "id": "ZJHsYJikgNfW"
      },
      "source": [
        "model.save('/content/drive/MyDrive/AI_05/Section4/project_re/model_whole.h5')"
      ],
      "execution_count": null,
      "outputs": []
    },
    {
      "cell_type": "markdown",
      "metadata": {
        "id": "xcQhEOMYCy74"
      },
      "source": [
        "## Resnet 이용해보기"
      ]
    },
    {
      "cell_type": "code",
      "metadata": {
        "id": "NciAQPegCysA"
      },
      "source": [
        "from tensorflow.keras.applications.resnet50 import ResNet50\n",
        "from tensorflow.keras.applications.resnet50 import preprocess_input, decode_predictions\n",
        "from tensorflow.keras.layers import Dense, GlobalAveragePooling2D\n",
        "from tensorflow.keras.models import Model\n"
      ],
      "execution_count": 25,
      "outputs": []
    },
    {
      "cell_type": "code",
      "metadata": {
        "colab": {
          "base_uri": "https://localhost:8080/"
        },
        "id": "QwP8izZxCouD",
        "outputId": "eee9ee94-0eaf-4d6e-bf3f-1daa7d266aaf"
      },
      "source": [
        "resnet = ResNet50(weights='imagenet', include_top=False)\n",
        "\n",
        "for layer in resnet.layers:\n",
        "    layer.trainable = False"
      ],
      "execution_count": 26,
      "outputs": [
        {
          "output_type": "stream",
          "name": "stdout",
          "text": [
            "Downloading data from https://storage.googleapis.com/tensorflow/keras-applications/resnet/resnet50_weights_tf_dim_ordering_tf_kernels_notop.h5\n",
            "94773248/94765736 [==============================] - 1s 0us/step\n",
            "94781440/94765736 [==============================] - 1s 0us/step\n"
          ]
        }
      ]
    },
    {
      "cell_type": "code",
      "metadata": {
        "id": "CyZDaDN7DIEY"
      },
      "source": [
        "x = resnet.output\n",
        "x = GlobalAveragePooling2D()(x)\n",
        "x = Dense(1024, activation='relu')(x)\n",
        "predictions = Dense(120, activation='softmax')(x)\n",
        "model = Model(resnet.input, predictions)"
      ],
      "execution_count": 34,
      "outputs": []
    },
    {
      "cell_type": "code",
      "metadata": {
        "id": "vIQ7T4wszdQl"
      },
      "source": [
        "model.summary()"
      ],
      "execution_count": null,
      "outputs": []
    },
    {
      "cell_type": "code",
      "metadata": {
        "id": "qvANwv8vDdHs",
        "colab": {
          "base_uri": "https://localhost:8080/"
        },
        "outputId": "76ed1d58-14a5-4ea7-e486-afc7cf939ed0"
      },
      "source": [
        "model.compile(optimizer='adam', loss='categorical_crossentropy', metrics='accuracy')\n",
        "checkpoint_cb = keras.callbacks.ModelCheckpoint('resnet-cnn-model.h5', save_best_only=True)\n",
        "early_stopping_cb = keras.callbacks.EarlyStopping(patience=2, restore_best_weights=True)\n",
        "\n",
        "history = model.fit(train_input, train_target, epochs=epochs, validation_data=(val_input, val_target),\n",
        "                    callbacks=[checkpoint_cb, early_stopping_cb])"
      ],
      "execution_count": 35,
      "outputs": [
        {
          "output_type": "stream",
          "name": "stdout",
          "text": [
            "Epoch 1/30\n",
            "256/256 [==============================] - 69s 255ms/step - loss: 2.7136 - accuracy: 0.3385 - val_loss: 1.9722 - val_accuracy: 0.4538\n",
            "Epoch 2/30\n",
            "256/256 [==============================] - 64s 249ms/step - loss: 1.3736 - accuracy: 0.6073 - val_loss: 1.8197 - val_accuracy: 0.4978\n",
            "Epoch 3/30\n",
            "256/256 [==============================] - 64s 249ms/step - loss: 0.9571 - accuracy: 0.7154 - val_loss: 1.7330 - val_accuracy: 0.5247\n",
            "Epoch 4/30\n",
            "256/256 [==============================] - 64s 249ms/step - loss: 0.6591 - accuracy: 0.8016 - val_loss: 1.7130 - val_accuracy: 0.5496\n",
            "Epoch 5/30\n",
            "256/256 [==============================] - 63s 246ms/step - loss: 0.4355 - accuracy: 0.8711 - val_loss: 1.9117 - val_accuracy: 0.5340\n",
            "Epoch 6/30\n",
            "256/256 [==============================] - 63s 246ms/step - loss: 0.2632 - accuracy: 0.9248 - val_loss: 1.9262 - val_accuracy: 0.5379\n"
          ]
        }
      ]
    },
    {
      "cell_type": "code",
      "metadata": {
        "id": "Zx24kWb_D3mK"
      },
      "source": [
        "model.save('/content/drive/MyDrive/AI_05/Section4/project_re/resnet_model.h5')"
      ],
      "execution_count": 32,
      "outputs": []
    },
    {
      "cell_type": "code",
      "metadata": {
        "id": "hsocB1eFVonp"
      },
      "source": [
        "names = list(os.listdir('/content/drive/MyDrive/AI_05/Section4/project_re/test'))"
      ],
      "execution_count": null,
      "outputs": []
    },
    {
      "cell_type": "markdown",
      "metadata": {
        "id": "Sm65iG6EFo5X"
      },
      "source": [
        "### 모델 테스트"
      ]
    },
    {
      "cell_type": "code",
      "metadata": {
        "id": "d5VQI-7UU4A6"
      },
      "source": [
        "def images_to_array2(test_data_dir, image_size):\n",
        "    image_names = list(os.listdir('/content/drive/MyDrive/AI_05/Section4/project_re/test'))\n",
        "    # image_labels = df['breed']\n",
        "    data_size = len(image_names)\n",
        "    \n",
        "    #빈 데이터셋을 만들어 준다\n",
        "    X = np.zeros([data_size,image_size[0],image_size[1],image_size[2]],dtype = np.uint8)\n",
        "\n",
        "    for i in range(data_size):\n",
        "        img_name = image_names[i]\n",
        "        img_dir = os.path.join(test_data_dir, img_name)\n",
        "        img_pixels = load_img(img_dir, target_size=image_size)\n",
        "        X[i] = img_pixels\n",
        "\n",
        "\n",
        "    print('Output Data Size:', X.shape)\n",
        "\n",
        "    return X"
      ],
      "execution_count": null,
      "outputs": []
    },
    {
      "cell_type": "code",
      "metadata": {
        "colab": {
          "base_uri": "https://localhost:8080/"
        },
        "id": "TdaSRB3FW7uP",
        "outputId": "c9e1a4c4-44c4-42b6-e66a-fb5ef981ea21"
      },
      "source": [
        "test_data_dir = '/content/drive/MyDrive/AI_05/Section4/project_re/test'\n",
        "test_input =images_to_array2(test_data_dir, img_size)"
      ],
      "execution_count": null,
      "outputs": [
        {
          "output_type": "stream",
          "name": "stdout",
          "text": [
            "Output Data Size: (6, 224, 224, 3)\n"
          ]
        }
      ]
    },
    {
      "cell_type": "code",
      "metadata": {
        "colab": {
          "base_uri": "https://localhost:8080/"
        },
        "id": "0GJlho10XrSq",
        "outputId": "e6e04fec-125f-45ce-ddfb-09ceb70459ad"
      },
      "source": [
        "preds = model.predict(test_input)\n",
        "print(preds)"
      ],
      "execution_count": null,
      "outputs": [
        {
          "output_type": "stream",
          "name": "stdout",
          "text": [
            "[[1.00768764e-12 1.08890642e-14 9.56235785e-11 2.83447389e-06\n",
            "  2.59623066e-05 3.29291595e-07 1.06447287e-15 6.30888641e-01\n",
            "  4.21976204e-10 7.91081391e-07 8.25632358e-12 2.17453646e-07\n",
            "  2.34679748e-10 2.84713252e-07 2.25192122e-11 2.20084999e-08\n",
            "  6.97769065e-10 1.11379621e-10 9.40550047e-13 9.62011745e-06\n",
            "  5.33068659e-11 2.10944876e-07 1.19474065e-03 2.15517578e-12\n",
            "  2.26309282e-09 1.23486028e-14 1.78024430e-15 2.29294361e-08\n",
            "  7.34263761e-09 2.91905078e-09 3.71951073e-14 3.18035149e-13\n",
            "  5.09352456e-12 8.03668954e-08 6.27243882e-11 1.97211090e-19\n",
            "  1.61804733e-13 3.67789005e-04 1.53856164e-11 1.64077662e-07\n",
            "  8.47235349e-09 5.52603998e-15 2.48278949e-11 1.24335338e-06\n",
            "  3.22866924e-08 2.15694494e-11 1.08587692e-07 3.71989518e-06\n",
            "  2.03778903e-11 8.38571046e-10 1.84517412e-09 2.45675164e-05\n",
            "  2.40568641e-11 1.15794059e-08 9.13453409e-14 5.02767591e-07\n",
            "  1.20201673e-15 1.84763135e-10 6.99379226e-12 8.77882662e-12\n",
            "  3.52138071e-03 4.58014273e-17 5.49219264e-12 8.29925592e-15\n",
            "  3.46450224e-09 1.02010833e-09 7.03427247e-07 7.41176191e-14\n",
            "  1.84339606e-05 2.24666011e-12 1.27808608e-08 1.02094090e-10\n",
            "  3.16081166e-01 7.10604232e-12 9.44704759e-10 6.30082563e-04\n",
            "  8.79842206e-12 8.99142982e-09 2.91120159e-08 1.76704595e-09\n",
            "  4.74068358e-08 2.86719693e-17 7.51723944e-12 2.86928672e-17\n",
            "  4.98208363e-09 4.07585771e-12 5.73746640e-11 5.37761942e-08\n",
            "  1.07463547e-05 8.33477523e-11 7.03672398e-10 7.20923612e-16\n",
            "  1.25346586e-12 4.24433202e-02 3.18488658e-09 2.81595147e-11\n",
            "  1.43454726e-09 6.94836272e-11 1.55427723e-18 3.34900207e-12\n",
            "  2.57019885e-03 3.47569945e-10 8.33446940e-12 9.60458713e-10\n",
            "  2.19164183e-03 5.48206702e-10 4.04680484e-10 2.74646481e-21\n",
            "  4.92228590e-20 3.50481157e-17 1.51001188e-06 2.95499518e-07\n",
            "  1.82897816e-06 3.08078847e-06 9.39206560e-11 2.63285750e-15\n",
            "  1.75153308e-13 3.52617076e-06 3.45138450e-16 3.16289633e-11]\n",
            " [2.97155061e-15 1.40972644e-20 5.89079618e-11 1.16964022e-10\n",
            "  2.35807640e-08 1.38474849e-08 2.50641063e-10 6.22512102e-01\n",
            "  3.96113471e-08 1.60604483e-03 4.01416140e-12 2.43071107e-13\n",
            "  5.37315581e-10 8.38045904e-04 3.27543169e-02 1.23264485e-07\n",
            "  3.77561420e-11 2.37644872e-06 2.13422297e-13 1.27895472e-08\n",
            "  1.67532878e-15 8.07624303e-07 1.54265072e-04 1.93678710e-12\n",
            "  6.71435743e-08 5.03347178e-17 9.41119838e-12 9.99384611e-08\n",
            "  7.49270086e-08 4.85611372e-02 1.00784485e-10 6.54151158e-13\n",
            "  1.49339907e-09 2.40947372e-07 1.72032825e-13 5.62031216e-13\n",
            "  1.49998141e-06 6.42392188e-05 1.86140696e-07 5.59868996e-09\n",
            "  3.20567288e-11 3.93790938e-16 6.01086021e-13 7.76980983e-07\n",
            "  3.25469918e-09 3.47127354e-07 8.49319349e-06 1.16382826e-09\n",
            "  2.85275337e-17 4.83087468e-04 2.27721010e-12 8.43042094e-11\n",
            "  5.90121745e-12 1.15630067e-13 4.12955342e-13 7.39882580e-07\n",
            "  1.07032393e-16 1.13086253e-05 2.91132712e-14 1.88990938e-08\n",
            "  1.69302492e-08 7.78411505e-15 9.76451142e-11 2.23244004e-13\n",
            "  1.55332968e-14 5.15748091e-16 8.18067107e-08 6.18051443e-10\n",
            "  2.49802645e-09 3.41347970e-07 1.77375377e-08 2.05139106e-08\n",
            "  2.91316479e-01 1.12506467e-12 5.46473370e-12 1.84952842e-05\n",
            "  1.10467517e-15 1.35592293e-08 1.66011971e-09 1.02839639e-08\n",
            "  9.25376022e-04 8.10598377e-12 1.36339786e-18 1.13170962e-14\n",
            "  4.42901722e-07 3.45570461e-10 1.54650934e-05 1.77427341e-06\n",
            "  3.07736569e-04 5.04095794e-07 2.28177899e-09 4.06215914e-13\n",
            "  2.86734497e-10 1.42736390e-04 5.41117966e-17 8.20601365e-11\n",
            "  4.71717977e-12 5.88349019e-17 4.99978857e-18 1.48423016e-12\n",
            "  5.84339048e-08 7.27847601e-06 4.40813324e-07 1.31368928e-12\n",
            "  6.78096103e-06 1.06415553e-17 2.25388708e-10 5.79764737e-17\n",
            "  5.37666123e-14 6.26027857e-21 1.46380160e-04 1.28168679e-07\n",
            "  3.66613823e-10 1.76594349e-05 1.26652313e-12 4.90233634e-14\n",
            "  3.67503642e-14 9.12401811e-05 1.38533986e-16 1.76920756e-10]\n",
            " [2.10939433e-10 4.43015723e-15 1.41254407e-06 3.90880661e-09\n",
            "  1.06288871e-08 2.31918580e-06 1.80947579e-09 6.21491969e-02\n",
            "  2.21206142e-09 9.61721071e-07 1.95315403e-13 9.37395855e-11\n",
            "  9.91686844e-10 1.44390144e-08 7.32863270e-10 2.27470699e-11\n",
            "  1.34501161e-05 2.19686278e-08 2.27780553e-16 1.23959646e-04\n",
            "  1.80966624e-12 1.73599048e-07 4.57260576e-05 2.18426853e-13\n",
            "  1.82556769e-13 3.84897560e-21 3.18933657e-10 5.75233207e-06\n",
            "  2.70024176e-14 2.36224878e-05 1.89080088e-11 1.10743269e-15\n",
            "  5.99817834e-11 1.60102712e-11 9.72876293e-15 1.04753119e-18\n",
            "  6.93435934e-11 1.61366898e-09 1.39197102e-03 1.27303402e-11\n",
            "  8.10797815e-07 9.05567328e-15 1.91103314e-10 1.47506824e-14\n",
            "  1.40778937e-07 4.61463263e-04 2.47367689e-06 8.47775716e-09\n",
            "  2.18049840e-12 9.34557876e-10 2.16563858e-05 7.68077182e-12\n",
            "  4.97662214e-18 5.73123499e-15 2.28183694e-08 4.97437250e-05\n",
            "  9.42327256e-19 1.55081530e-08 2.98805170e-14 4.95038515e-12\n",
            "  1.44039788e-07 1.81014800e-10 3.24844492e-11 1.36921502e-10\n",
            "  2.20310148e-09 5.42388527e-15 2.24948260e-16 3.23925220e-14\n",
            "  2.47465941e-05 8.09362993e-11 7.31171634e-12 5.15729516e-12\n",
            "  3.05679470e-01 9.28278992e-15 1.79795144e-12 6.75244536e-03\n",
            "  1.96076733e-18 3.71055794e-04 1.67528635e-09 3.16734305e-10\n",
            "  1.56322699e-02 4.05469791e-09 1.38265013e-16 4.95788435e-17\n",
            "  4.58604035e-08 3.75330256e-09 3.86981280e-11 4.65944616e-10\n",
            "  1.15971353e-07 9.30546862e-10 1.66866920e-09 2.30949716e-15\n",
            "  1.52108123e-19 1.47832632e-11 9.31673250e-13 2.45370879e-09\n",
            "  4.82054793e-06 1.05757579e-13 1.13414027e-15 9.64704494e-09\n",
            "  7.13788539e-09 2.19955041e-06 2.02544950e-04 2.43070945e-11\n",
            "  8.96584336e-03 3.78451864e-15 5.78466870e-06 2.52493772e-17\n",
            "  3.00627070e-14 1.72067776e-15 3.25476867e-05 5.98030746e-01\n",
            "  1.71100814e-10 2.29399362e-07 5.78182953e-15 2.62089930e-15\n",
            "  6.95130585e-12 6.02449202e-11 1.78136061e-10 4.39115105e-10]\n",
            " [9.48303222e-19 5.43896730e-17 2.64106076e-14 1.20981513e-12\n",
            "  3.04554160e-10 2.48737142e-11 3.97553352e-16 9.99937177e-01\n",
            "  8.73951985e-17 4.41032766e-09 7.24394991e-13 7.16724382e-14\n",
            "  1.02291717e-13 2.13706526e-12 7.16450066e-13 6.46135579e-15\n",
            "  4.01300954e-12 1.33309126e-15 1.80053909e-17 2.33059370e-11\n",
            "  8.68385655e-17 3.22624455e-10 7.75539875e-12 4.48239671e-16\n",
            "  3.42760195e-12 3.46775490e-19 2.72842431e-13 7.38709224e-13\n",
            "  2.02400217e-14 2.55597197e-08 2.32176322e-12 2.68811986e-19\n",
            "  2.42538017e-15 7.97375783e-13 9.67657255e-17 1.48413017e-19\n",
            "  5.21625820e-13 3.72148951e-10 1.57517814e-12 3.71036318e-13\n",
            "  2.59896813e-15 2.79987775e-18 2.34051691e-20 2.08046705e-10\n",
            "  3.02898575e-13 2.04473244e-12 6.48856316e-11 1.09180121e-13\n",
            "  6.03183329e-18 1.12367757e-13 1.74561513e-17 2.34692664e-13\n",
            "  5.54823091e-17 1.60519056e-10 7.98747245e-13 6.95041980e-09\n",
            "  1.45795275e-19 1.43890683e-12 7.07154562e-16 8.24102918e-15\n",
            "  1.71413390e-08 1.76950228e-18 2.93825989e-16 2.38910324e-12\n",
            "  1.83756611e-16 2.60465288e-13 1.03052766e-12 3.41001844e-14\n",
            "  4.96366781e-10 6.20517544e-16 3.19008058e-14 1.10733192e-08\n",
            "  3.10062496e-05 1.10127505e-14 1.69529234e-11 1.04055707e-05\n",
            "  8.81148854e-18 6.37556321e-15 2.20467156e-12 1.10868638e-12\n",
            "  1.23735883e-10 1.42534829e-11 6.89679284e-20 1.33787357e-17\n",
            "  3.67070003e-12 1.33506704e-13 1.91503383e-10 1.34480513e-12\n",
            "  5.65657417e-12 2.95875537e-07 1.78751094e-11 6.63620933e-17\n",
            "  2.18260389e-17 3.71476426e-11 1.47474217e-15 1.06439261e-12\n",
            "  1.19633976e-14 1.30503425e-16 4.31279861e-17 1.75653017e-13\n",
            "  1.23886576e-17 2.75537023e-15 8.18420378e-14 1.43369827e-13\n",
            "  1.56661996e-13 2.76734558e-16 4.92235701e-13 2.12364870e-19\n",
            "  2.60578823e-15 7.12703580e-16 8.43394758e-08 2.09911250e-05\n",
            "  9.26573751e-09 2.14630869e-09 6.52427903e-11 1.31596021e-19\n",
            "  7.07972478e-16 3.43524827e-11 1.94862471e-15 6.41441275e-11]\n",
            " [1.02003649e-11 2.13542396e-11 4.14247125e-07 2.11051658e-01\n",
            "  2.66413335e-02 1.95637986e-04 5.88236220e-13 3.42541151e-02\n",
            "  7.73422906e-12 7.29533212e-10 1.57548826e-07 1.22371411e-08\n",
            "  1.23214568e-06 1.11758982e-06 5.13759176e-07 3.66445292e-08\n",
            "  7.60463692e-09 8.41899990e-08 5.16994831e-18 5.15410102e-05\n",
            "  3.05573817e-12 6.84412498e-07 5.23068570e-03 2.76243980e-13\n",
            "  8.59596949e-10 3.81568648e-12 3.96309097e-10 4.19500390e-09\n",
            "  8.16164402e-07 2.50717928e-03 1.12398635e-09 5.85314878e-14\n",
            "  7.77657583e-09 2.68925646e-07 2.95232949e-10 1.66286603e-12\n",
            "  1.43686930e-06 8.90882166e-06 2.39744278e-08 1.93954941e-09\n",
            "  7.69283361e-07 1.49128146e-14 5.25732036e-09 4.90275209e-10\n",
            "  2.56502753e-05 3.39260060e-13 8.01138089e-09 2.69713126e-07\n",
            "  5.09517298e-12 1.54297908e-09 2.54355426e-09 1.36451925e-08\n",
            "  4.81766536e-13 2.06885588e-07 4.50519864e-11 1.49411960e-07\n",
            "  9.23337063e-15 6.04086665e-08 1.23976121e-10 4.55630054e-13\n",
            "  1.87030479e-01 6.85140069e-16 4.79110465e-15 2.14375731e-07\n",
            "  5.16510057e-10 4.75241548e-11 3.51156331e-08 9.40165168e-10\n",
            "  8.85862672e-09 2.69567693e-08 3.02218206e-09 2.61287658e-10\n",
            "  2.48341961e-03 2.41817451e-11 2.08822004e-09 3.04992478e-02\n",
            "  3.37645751e-08 2.63742272e-09 1.91234233e-11 6.34932439e-06\n",
            "  9.52268735e-08 7.38840245e-05 6.18204218e-13 3.61685204e-12\n",
            "  2.42058318e-11 7.42093019e-12 6.25322446e-06 5.18168827e-06\n",
            "  3.05264507e-08 6.71667885e-03 4.92876500e-01 6.00490924e-12\n",
            "  6.04989640e-15 6.51126038e-06 6.73006584e-09 7.46561829e-13\n",
            "  1.26343516e-13 1.95702135e-10 1.15709063e-14 1.35190047e-12\n",
            "  1.43492196e-08 2.12282347e-14 1.70811594e-11 6.48979404e-09\n",
            "  3.02216918e-10 1.55173936e-08 2.50117993e-09 1.46723887e-12\n",
            "  1.50348961e-12 1.77531861e-12 8.19034867e-08 8.89913143e-10\n",
            "  2.03850796e-04 8.26697766e-10 2.37777187e-10 3.79139189e-15\n",
            "  3.36958135e-11 6.14892497e-06 2.23296620e-12 1.09890527e-04]\n",
            " [1.15404333e-07 1.66516865e-12 5.11480813e-08 1.99047122e-02\n",
            "  6.89785736e-07 3.46604153e-04 1.14283470e-11 6.21840917e-02\n",
            "  2.76037665e-10 1.20971928e-12 7.49861666e-14 2.74545044e-07\n",
            "  7.08701009e-09 5.14321741e-08 1.45935326e-08 2.51852955e-10\n",
            "  6.89355275e-08 1.42770446e-07 2.89412094e-09 1.59651227e-05\n",
            "  1.13969808e-03 2.41411665e-11 4.04557159e-06 7.19086131e-07\n",
            "  2.51142787e-08 2.29381423e-12 6.71883660e-09 5.02145791e-04\n",
            "  1.49176831e-08 1.41960781e-08 4.21878893e-10 7.94478094e-10\n",
            "  2.48585980e-06 2.56803069e-05 8.63662278e-13 2.41288760e-11\n",
            "  1.56658783e-10 2.13153198e-05 3.78156118e-10 5.62420978e-11\n",
            "  1.29119881e-10 1.56404887e-04 2.63339345e-13 8.62449269e-07\n",
            "  5.20936846e-05 1.37035254e-08 2.60767556e-05 5.07350206e-09\n",
            "  5.68845098e-05 1.01529520e-06 6.67052418e-02 1.75855348e-07\n",
            "  5.65579051e-12 4.19457683e-05 1.77549728e-11 4.56676537e-12\n",
            "  3.57428043e-09 9.91441667e-08 9.21789160e-06 2.08262227e-12\n",
            "  2.64304020e-07 2.13570589e-12 1.14638998e-09 2.12906017e-12\n",
            "  4.18126211e-12 9.29085198e-10 6.15491436e-10 1.19277465e-05\n",
            "  4.54222743e-07 5.14431413e-05 1.55769925e-07 4.37289272e-15\n",
            "  2.28681229e-02 6.83841206e-10 2.01661964e-15 3.93674782e-07\n",
            "  8.67351968e-09 7.83017595e-10 1.00817248e-08 3.69790447e-04\n",
            "  1.41922608e-01 1.28674719e-05 7.93474336e-13 1.30566348e-11\n",
            "  9.67927669e-13 1.65270738e-13 6.92737274e-12 5.63073810e-10\n",
            "  1.54226711e-07 1.80322619e-08 3.26843275e-10 1.08303763e-12\n",
            "  5.17444811e-12 1.38526604e-08 1.50219477e-13 3.08452086e-09\n",
            "  1.66262704e-04 2.03353675e-12 1.69104420e-18 2.19389507e-10\n",
            "  4.30997716e-06 1.09891436e-12 8.34126768e-05 1.65721140e-04\n",
            "  3.07242260e-07 7.54581744e-11 1.56597461e-11 5.16590763e-12\n",
            "  4.82471830e-15 6.97872563e-15 6.82064950e-01 3.20061089e-09\n",
            "  3.13548990e-05 1.11956044e-09 4.47577841e-09 2.22815341e-15\n",
            "  1.18626409e-09 1.04629481e-03 1.14946056e-15 2.74366663e-08]]\n"
          ]
        }
      ]
    },
    {
      "cell_type": "code",
      "metadata": {
        "id": "Tm4jQcANYmKc"
      },
      "source": [
        "class_to_num"
      ],
      "execution_count": null,
      "outputs": []
    },
    {
      "cell_type": "code",
      "metadata": {
        "id": "HB9yKoNMYvvS"
      },
      "source": [
        "num_to_class = {v:k for k,v in class_to_num.items()}"
      ],
      "execution_count": null,
      "outputs": []
    },
    {
      "cell_type": "code",
      "metadata": {
        "colab": {
          "base_uri": "https://localhost:8080/"
        },
        "id": "ZuUY7ezVYPwj",
        "outputId": "30bfa057-a861-4a56-8c8a-ece11a1f3aec"
      },
      "source": [
        "ttt=list(np.argmax(preds, axis=-1))\n",
        "ttt"
      ],
      "execution_count": null,
      "outputs": [
        {
          "output_type": "execute_result",
          "data": {
            "text/plain": [
              "[7, 7, 111, 7, 90, 110]"
            ]
          },
          "metadata": {},
          "execution_count": 65
        }
      ]
    },
    {
      "cell_type": "code",
      "metadata": {
        "colab": {
          "base_uri": "https://localhost:8080/"
        },
        "id": "jgs-nzAQZQm6",
        "outputId": "930e3784-1206-4736-9ebf-f4ecdf6dd98e"
      },
      "source": [
        "for i in ttt:\n",
        "    breed = num_to_class.get(i)\n",
        "    print(breed)"
      ],
      "execution_count": null,
      "outputs": [
        {
          "output_type": "stream",
          "name": "stdout",
          "text": [
            "basenji\n",
            "basenji\n",
            "toy_terrier\n",
            "basenji\n",
            "rhodesian_ridgeback\n",
            "toy_poodle\n"
          ]
        }
      ]
    }
  ]
}